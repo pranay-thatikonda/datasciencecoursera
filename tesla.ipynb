{
    "cells": [
        {
            "cell_type": "code",
            "execution_count": 1,
            "metadata": {},
            "outputs": [
                {
                    "name": "stdout",
                    "output_type": "stream",
                    "text": "/opt/conda/envs/Python-3.7-main/lib/python3.7/site-packages/secretstorage/dhcrypto.py:16: CryptographyDeprecationWarning: int_from_bytes is deprecated, use int.from_bytes instead\n  from cryptography.utils import int_from_bytes\n/opt/conda/envs/Python-3.7-main/lib/python3.7/site-packages/secretstorage/util.py:25: CryptographyDeprecationWarning: int_from_bytes is deprecated, use int.from_bytes instead\n  from cryptography.utils import int_from_bytes\nCollecting yfinance\n  Downloading yfinance-0.1.59.tar.gz (25 kB)\nRequirement already satisfied: pandas>=0.24 in /opt/conda/envs/Python-3.7-main/lib/python3.7/site-packages (from yfinance) (1.0.5)\nRequirement already satisfied: numpy>=1.15 in /opt/conda/envs/Python-3.7-main/lib/python3.7/site-packages (from yfinance) (1.18.5)\nRequirement already satisfied: requests>=2.20 in /opt/conda/envs/Python-3.7-main/lib/python3.7/site-packages (from yfinance) (2.24.0)\nCollecting multitasking>=0.0.7\n  Downloading multitasking-0.0.9.tar.gz (8.1 kB)\nRequirement already satisfied: lxml>=4.5.1 in /opt/conda/envs/Python-3.7-main/lib/python3.7/site-packages (from yfinance) (4.5.1)\nRequirement already satisfied: python-dateutil>=2.6.1 in /opt/conda/envs/Python-3.7-main/lib/python3.7/site-packages (from pandas>=0.24->yfinance) (2.8.1)\nRequirement already satisfied: pytz>=2017.2 in /opt/conda/envs/Python-3.7-main/lib/python3.7/site-packages (from pandas>=0.24->yfinance) (2020.1)\nRequirement already satisfied: idna<3,>=2.5 in /opt/conda/envs/Python-3.7-main/lib/python3.7/site-packages (from requests>=2.20->yfinance) (2.9)\nRequirement already satisfied: chardet<4,>=3.0.2 in /opt/conda/envs/Python-3.7-main/lib/python3.7/site-packages (from requests>=2.20->yfinance) (3.0.4)\nRequirement already satisfied: urllib3!=1.25.0,!=1.25.1,<1.26,>=1.21.1 in /opt/conda/envs/Python-3.7-main/lib/python3.7/site-packages (from requests>=2.20->yfinance) (1.25.9)\nRequirement already satisfied: certifi>=2017.4.17 in /opt/conda/envs/Python-3.7-main/lib/python3.7/site-packages (from requests>=2.20->yfinance) (2020.12.5)\nRequirement already satisfied: six>=1.5 in /opt/conda/envs/Python-3.7-main/lib/python3.7/site-packages (from python-dateutil>=2.6.1->pandas>=0.24->yfinance) (1.15.0)\nBuilding wheels for collected packages: yfinance, multitasking\n  Building wheel for yfinance (setup.py) ... \u001b[?25ldone\n\u001b[?25h  Created wheel for yfinance: filename=yfinance-0.1.59-py2.py3-none-any.whl size=23442 sha256=e4f39a0a6a1021ea3e8bcf2f0d113fbfcaaebb0fc2c8b77f04e83a6c9dc0b3cd\n  Stored in directory: /tmp/wsuser/.cache/pip/wheels/26/af/8b/fac1b47dffef567f945641cdc9b67bb25fae5725d462a8cf81\n  Building wheel for multitasking (setup.py) ... \u001b[?25ldone\n\u001b[?25h  Created wheel for multitasking: filename=multitasking-0.0.9-py3-none-any.whl size=8366 sha256=210ada2c0d35fd09f215fe2260354258dc95a3ce81e2918fea780bcd7af92f34\n  Stored in directory: /tmp/wsuser/.cache/pip/wheels/ae/25/47/4d68431a7ec1b6c4b5233365934b74c1d4e665bf5f968d363a\nSuccessfully built yfinance multitasking\nInstalling collected packages: multitasking, yfinance\nSuccessfully installed multitasking-0.0.9 yfinance-0.1.59\n"
                }
            ],
            "source": "!pip install yfinance"
        },
        {
            "cell_type": "code",
            "execution_count": 2,
            "metadata": {},
            "outputs": [],
            "source": "import yfinance as yt\nimport pandas as pd"
        },
        {
            "cell_type": "code",
            "execution_count": 3,
            "metadata": {},
            "outputs": [],
            "source": "tesla=yt.Ticker(\"TSLA\")"
        },
        {
            "cell_type": "code",
            "execution_count": 21,
            "metadata": {},
            "outputs": [],
            "source": "tesla_data=tesla.history(period=\"max\")"
        },
        {
            "cell_type": "code",
            "execution_count": 115,
            "metadata": {},
            "outputs": [],
            "source": "tesla_data.reset_index(inplace=True)"
        },
        {
            "cell_type": "code",
            "execution_count": 116,
            "metadata": {},
            "outputs": [
                {
                    "data": {
                        "text/html": "<div>\n<style scoped>\n    .dataframe tbody tr th:only-of-type {\n        vertical-align: middle;\n    }\n\n    .dataframe tbody tr th {\n        vertical-align: top;\n    }\n\n    .dataframe thead th {\n        text-align: right;\n    }\n</style>\n<table border=\"1\" class=\"dataframe\">\n  <thead>\n    <tr style=\"text-align: right;\">\n      <th></th>\n      <th>Date</th>\n      <th>Open</th>\n      <th>High</th>\n      <th>Low</th>\n      <th>Close</th>\n      <th>Volume</th>\n      <th>Dividends</th>\n      <th>Stock Splits</th>\n    </tr>\n  </thead>\n  <tbody>\n    <tr>\n      <th>0</th>\n      <td>2010-06-29</td>\n      <td>3.800</td>\n      <td>5.000</td>\n      <td>3.508</td>\n      <td>4.778</td>\n      <td>93831500</td>\n      <td>0</td>\n      <td>0.0</td>\n    </tr>\n    <tr>\n      <th>1</th>\n      <td>2010-06-30</td>\n      <td>5.158</td>\n      <td>6.084</td>\n      <td>4.660</td>\n      <td>4.766</td>\n      <td>85935500</td>\n      <td>0</td>\n      <td>0.0</td>\n    </tr>\n    <tr>\n      <th>2</th>\n      <td>2010-07-01</td>\n      <td>5.000</td>\n      <td>5.184</td>\n      <td>4.054</td>\n      <td>4.392</td>\n      <td>41094000</td>\n      <td>0</td>\n      <td>0.0</td>\n    </tr>\n    <tr>\n      <th>3</th>\n      <td>2010-07-02</td>\n      <td>4.600</td>\n      <td>4.620</td>\n      <td>3.742</td>\n      <td>3.840</td>\n      <td>25699000</td>\n      <td>0</td>\n      <td>0.0</td>\n    </tr>\n    <tr>\n      <th>4</th>\n      <td>2010-07-06</td>\n      <td>4.000</td>\n      <td>4.000</td>\n      <td>3.166</td>\n      <td>3.222</td>\n      <td>34334500</td>\n      <td>0</td>\n      <td>0.0</td>\n    </tr>\n  </tbody>\n</table>\n</div>",
                        "text/plain": "        Date   Open   High    Low  Close    Volume  Dividends  Stock Splits\n0 2010-06-29  3.800  5.000  3.508  4.778  93831500          0           0.0\n1 2010-06-30  5.158  6.084  4.660  4.766  85935500          0           0.0\n2 2010-07-01  5.000  5.184  4.054  4.392  41094000          0           0.0\n3 2010-07-02  4.600  4.620  3.742  3.840  25699000          0           0.0\n4 2010-07-06  4.000  4.000  3.166  3.222  34334500          0           0.0"
                    },
                    "execution_count": 116,
                    "metadata": {},
                    "output_type": "execute_result"
                }
            ],
            "source": "tesla_data.head()"
        },
        {
            "cell_type": "code",
            "execution_count": 24,
            "metadata": {},
            "outputs": [
                {
                    "data": {
                        "text/html": "<div>\n<style scoped>\n    .dataframe tbody tr th:only-of-type {\n        vertical-align: middle;\n    }\n\n    .dataframe tbody tr th {\n        vertical-align: top;\n    }\n\n    .dataframe thead th {\n        text-align: right;\n    }\n</style>\n<table border=\"1\" class=\"dataframe\">\n  <thead>\n    <tr style=\"text-align: right;\">\n      <th></th>\n      <th>Open</th>\n      <th>High</th>\n      <th>Low</th>\n      <th>Close</th>\n      <th>Volume</th>\n      <th>Dividends</th>\n      <th>Stock Splits</th>\n    </tr>\n    <tr>\n      <th>Date</th>\n      <th></th>\n      <th></th>\n      <th></th>\n      <th></th>\n      <th></th>\n      <th></th>\n      <th></th>\n    </tr>\n  </thead>\n  <tbody>\n    <tr>\n      <th>2021-04-26</th>\n      <td>741.000000</td>\n      <td>749.299988</td>\n      <td>732.609985</td>\n      <td>738.200012</td>\n      <td>31038500</td>\n      <td>0</td>\n      <td>0.0</td>\n    </tr>\n    <tr>\n      <th>2021-04-27</th>\n      <td>717.960022</td>\n      <td>724.000000</td>\n      <td>703.349976</td>\n      <td>704.739990</td>\n      <td>29437000</td>\n      <td>0</td>\n      <td>0.0</td>\n    </tr>\n    <tr>\n      <th>2021-04-28</th>\n      <td>696.409973</td>\n      <td>708.500000</td>\n      <td>693.599976</td>\n      <td>694.400024</td>\n      <td>22271000</td>\n      <td>0</td>\n      <td>0.0</td>\n    </tr>\n    <tr>\n      <th>2021-04-29</th>\n      <td>699.510010</td>\n      <td>702.250000</td>\n      <td>668.500000</td>\n      <td>677.000000</td>\n      <td>28845400</td>\n      <td>0</td>\n      <td>0.0</td>\n    </tr>\n    <tr>\n      <th>2021-04-30</th>\n      <td>667.590027</td>\n      <td>715.469971</td>\n      <td>666.140015</td>\n      <td>709.440002</td>\n      <td>40686400</td>\n      <td>0</td>\n      <td>0.0</td>\n    </tr>\n  </tbody>\n</table>\n</div>",
                        "text/plain": "                  Open        High         Low       Close    Volume  \\\nDate                                                                   \n2021-04-26  741.000000  749.299988  732.609985  738.200012  31038500   \n2021-04-27  717.960022  724.000000  703.349976  704.739990  29437000   \n2021-04-28  696.409973  708.500000  693.599976  694.400024  22271000   \n2021-04-29  699.510010  702.250000  668.500000  677.000000  28845400   \n2021-04-30  667.590027  715.469971  666.140015  709.440002  40686400   \n\n            Dividends  Stock Splits  \nDate                                 \n2021-04-26          0           0.0  \n2021-04-27          0           0.0  \n2021-04-28          0           0.0  \n2021-04-29          0           0.0  \n2021-04-30          0           0.0  "
                    },
                    "execution_count": 24,
                    "metadata": {},
                    "output_type": "execute_result"
                }
            ],
            "source": "tesla_data.tail()"
        },
        {
            "cell_type": "code",
            "execution_count": 83,
            "metadata": {},
            "outputs": [],
            "source": "from bs4 import BeautifulSoup as bs "
        },
        {
            "cell_type": "code",
            "execution_count": 104,
            "metadata": {},
            "outputs": [],
            "source": "import requests\nurl=\"https://finance.yahoo.com/quote/TSLA/history?period1=1277769600&period2=1612137600&interval=1d&filter=history&frequency=1d&includeAdjustedClose=true\""
        },
        {
            "cell_type": "code",
            "execution_count": 128,
            "metadata": {},
            "outputs": [],
            "source": "html_data=requests.get(url).text\n"
        },
        {
            "cell_type": "code",
            "execution_count": 107,
            "metadata": {},
            "outputs": [
                {
                    "data": {
                        "text/plain": "<title>Tesla, Inc. (TSLA) Stock Historical Prices &amp; Data - Yahoo Finance</title>"
                    },
                    "execution_count": 107,
                    "metadata": {},
                    "output_type": "execute_result"
                }
            ],
            "source": "soup=bs(html_data,\"html5lib\")\nsoup.title"
        },
        {
            "cell_type": "code",
            "execution_count": 108,
            "metadata": {},
            "outputs": [],
            "source": "tesla_revenue=pd.DataFrame(columns=[\"Date\",\"Open\",\"High\",\"Low\",\"Close\",\"Adj Close\",\"Volume\"])"
        },
        {
            "cell_type": "code",
            "execution_count": 109,
            "metadata": {},
            "outputs": [],
            "source": "for row in soup.find(\"tbody\").findAll(\"tr\"):\n    col=row.findAll(\"td\")\n    if(col!=[]):\n        date=col[0].text\n        Open=col[1].text\n        high=col[2].text\n        low=col[3].text\n        close=col[4].text\n        adj=col[5].text\n        volume=col[6].text\n        tesla_revenue=tesla_revenue.append({\"Date\":date,\"Open\":Open,\"High\":high,\"Low\":low,\"Close\":close,\"Adj Close\":adj,\"Volume\":volume},ignore_index=True)"
        },
        {
            "cell_type": "code",
            "execution_count": 112,
            "metadata": {},
            "outputs": [],
            "source": "tesla_revenue.reset_index(inplace=True)"
        },
        {
            "cell_type": "code",
            "execution_count": 114,
            "metadata": {},
            "outputs": [
                {
                    "data": {
                        "text/html": "<div>\n<style scoped>\n    .dataframe tbody tr th:only-of-type {\n        vertical-align: middle;\n    }\n\n    .dataframe tbody tr th {\n        vertical-align: top;\n    }\n\n    .dataframe thead th {\n        text-align: right;\n    }\n</style>\n<table border=\"1\" class=\"dataframe\">\n  <thead>\n    <tr style=\"text-align: right;\">\n      <th></th>\n      <th>index</th>\n      <th>Date</th>\n      <th>Open</th>\n      <th>High</th>\n      <th>Low</th>\n      <th>Close</th>\n      <th>Adj Close</th>\n      <th>Volume</th>\n    </tr>\n  </thead>\n  <tbody>\n    <tr>\n      <th>95</th>\n      <td>95</td>\n      <td>Sep 14, 2020</td>\n      <td>380.95</td>\n      <td>420.00</td>\n      <td>373.30</td>\n      <td>419.62</td>\n      <td>419.62</td>\n      <td>83,020,600</td>\n    </tr>\n    <tr>\n      <th>96</th>\n      <td>96</td>\n      <td>Sep 11, 2020</td>\n      <td>381.94</td>\n      <td>382.50</td>\n      <td>360.50</td>\n      <td>372.72</td>\n      <td>372.72</td>\n      <td>60,717,500</td>\n    </tr>\n    <tr>\n      <th>97</th>\n      <td>97</td>\n      <td>Sep 10, 2020</td>\n      <td>386.21</td>\n      <td>398.99</td>\n      <td>360.56</td>\n      <td>371.34</td>\n      <td>371.34</td>\n      <td>84,930,600</td>\n    </tr>\n    <tr>\n      <th>98</th>\n      <td>98</td>\n      <td>Sep 09, 2020</td>\n      <td>356.60</td>\n      <td>369.00</td>\n      <td>341.51</td>\n      <td>366.28</td>\n      <td>366.28</td>\n      <td>79,465,800</td>\n    </tr>\n    <tr>\n      <th>99</th>\n      <td>99</td>\n      <td>Sep 08, 2020</td>\n      <td>356.00</td>\n      <td>368.74</td>\n      <td>329.88</td>\n      <td>330.21</td>\n      <td>330.21</td>\n      <td>115,465,700</td>\n    </tr>\n  </tbody>\n</table>\n</div>",
                        "text/plain": "    index          Date    Open    High     Low   Close Adj Close       Volume\n95     95  Sep 14, 2020  380.95  420.00  373.30  419.62    419.62   83,020,600\n96     96  Sep 11, 2020  381.94  382.50  360.50  372.72    372.72   60,717,500\n97     97  Sep 10, 2020  386.21  398.99  360.56  371.34    371.34   84,930,600\n98     98  Sep 09, 2020  356.60  369.00  341.51  366.28    366.28   79,465,800\n99     99  Sep 08, 2020  356.00  368.74  329.88  330.21    330.21  115,465,700"
                    },
                    "execution_count": 114,
                    "metadata": {},
                    "output_type": "execute_result"
                }
            ],
            "source": "tesla_revenue.tail()"
        },
        {
            "cell_type": "code",
            "execution_count": 118,
            "metadata": {},
            "outputs": [],
            "source": "gme=yt.Ticker(\"GME\")"
        },
        {
            "cell_type": "code",
            "execution_count": 119,
            "metadata": {},
            "outputs": [],
            "source": "gme_data=gme.history(period=\"max\")"
        },
        {
            "cell_type": "code",
            "execution_count": 120,
            "metadata": {},
            "outputs": [],
            "source": "gme_data.reset_index(inplace=True)"
        },
        {
            "cell_type": "code",
            "execution_count": 121,
            "metadata": {},
            "outputs": [
                {
                    "data": {
                        "text/html": "<div>\n<style scoped>\n    .dataframe tbody tr th:only-of-type {\n        vertical-align: middle;\n    }\n\n    .dataframe tbody tr th {\n        vertical-align: top;\n    }\n\n    .dataframe thead th {\n        text-align: right;\n    }\n</style>\n<table border=\"1\" class=\"dataframe\">\n  <thead>\n    <tr style=\"text-align: right;\">\n      <th></th>\n      <th>Date</th>\n      <th>Open</th>\n      <th>High</th>\n      <th>Low</th>\n      <th>Close</th>\n      <th>Volume</th>\n      <th>Dividends</th>\n      <th>Stock Splits</th>\n    </tr>\n  </thead>\n  <tbody>\n    <tr>\n      <th>0</th>\n      <td>2002-02-13</td>\n      <td>6.480513</td>\n      <td>6.773399</td>\n      <td>6.413183</td>\n      <td>6.766666</td>\n      <td>19054000</td>\n      <td>0.0</td>\n      <td>0.0</td>\n    </tr>\n    <tr>\n      <th>1</th>\n      <td>2002-02-14</td>\n      <td>6.850831</td>\n      <td>6.864296</td>\n      <td>6.682506</td>\n      <td>6.733003</td>\n      <td>2755400</td>\n      <td>0.0</td>\n      <td>0.0</td>\n    </tr>\n    <tr>\n      <th>2</th>\n      <td>2002-02-15</td>\n      <td>6.733001</td>\n      <td>6.749833</td>\n      <td>6.632006</td>\n      <td>6.699336</td>\n      <td>2097400</td>\n      <td>0.0</td>\n      <td>0.0</td>\n    </tr>\n    <tr>\n      <th>3</th>\n      <td>2002-02-19</td>\n      <td>6.665671</td>\n      <td>6.665671</td>\n      <td>6.312189</td>\n      <td>6.430017</td>\n      <td>1852600</td>\n      <td>0.0</td>\n      <td>0.0</td>\n    </tr>\n    <tr>\n      <th>4</th>\n      <td>2002-02-20</td>\n      <td>6.463681</td>\n      <td>6.648838</td>\n      <td>6.413183</td>\n      <td>6.648838</td>\n      <td>1723200</td>\n      <td>0.0</td>\n      <td>0.0</td>\n    </tr>\n  </tbody>\n</table>\n</div>",
                        "text/plain": "        Date      Open      High       Low     Close    Volume  Dividends  \\\n0 2002-02-13  6.480513  6.773399  6.413183  6.766666  19054000        0.0   \n1 2002-02-14  6.850831  6.864296  6.682506  6.733003   2755400        0.0   \n2 2002-02-15  6.733001  6.749833  6.632006  6.699336   2097400        0.0   \n3 2002-02-19  6.665671  6.665671  6.312189  6.430017   1852600        0.0   \n4 2002-02-20  6.463681  6.648838  6.413183  6.648838   1723200        0.0   \n\n   Stock Splits  \n0           0.0  \n1           0.0  \n2           0.0  \n3           0.0  \n4           0.0  "
                    },
                    "execution_count": 121,
                    "metadata": {},
                    "output_type": "execute_result"
                }
            ],
            "source": "gme_data.head()"
        },
        {
            "cell_type": "code",
            "execution_count": 122,
            "metadata": {},
            "outputs": [],
            "source": "url2=\"https://finance.yahoo.com/quote/GME/history?period1=1013558400&period2=1619827200&interval=1d&filter=history&frequency=1d&includeAdjustedClose=true\"\nhtml=requests.get(url2).text"
        },
        {
            "cell_type": "code",
            "execution_count": 123,
            "metadata": {},
            "outputs": [],
            "source": "soup=bs(html,\"html5lib\")"
        },
        {
            "cell_type": "code",
            "execution_count": 125,
            "metadata": {},
            "outputs": [],
            "source": "gme_revenue=pd.DataFrame(columns=[\"Date\",\"Open\",\"High\",\"Low\",\"Close\",\"Adj Close\",\"Volume\"])\nfor r in soup.find(\"tbody\").findAll(\"tr\"):\n    col=r.findAll(\"td\")\n    if(col!=[]):\n        date=col[0].text\n        Open=col[1].text\n        high=col[2].text\n        low=col[3].text\n        close=col[4].text\n        adj=col[5].text\n        volume=col[6].text\n        gme_revenue=gme_revenue.append({\"Date\":date,\"Open\":Open,\"High\":high,\"Low\":low,\"Close\":close,\"Adj Close\":adj,\"Volume\":volume},ignore_index=True)\n        \n        "
        },
        {
            "cell_type": "code",
            "execution_count": 127,
            "metadata": {},
            "outputs": [
                {
                    "data": {
                        "text/html": "<div>\n<style scoped>\n    .dataframe tbody tr th:only-of-type {\n        vertical-align: middle;\n    }\n\n    .dataframe tbody tr th {\n        vertical-align: top;\n    }\n\n    .dataframe thead th {\n        text-align: right;\n    }\n</style>\n<table border=\"1\" class=\"dataframe\">\n  <thead>\n    <tr style=\"text-align: right;\">\n      <th></th>\n      <th>index</th>\n      <th>Date</th>\n      <th>Open</th>\n      <th>High</th>\n      <th>Low</th>\n      <th>Close</th>\n      <th>Adj Close</th>\n      <th>Volume</th>\n    </tr>\n  </thead>\n  <tbody>\n    <tr>\n      <th>95</th>\n      <td>95</td>\n      <td>Dec 11, 2020</td>\n      <td>13.91</td>\n      <td>14.00</td>\n      <td>13.02</td>\n      <td>13.31</td>\n      <td>13.31</td>\n      <td>7,496,900</td>\n    </tr>\n    <tr>\n      <th>96</th>\n      <td>96</td>\n      <td>Dec 10, 2020</td>\n      <td>13.12</td>\n      <td>14.41</td>\n      <td>13.05</td>\n      <td>14.12</td>\n      <td>14.12</td>\n      <td>7,558,900</td>\n    </tr>\n    <tr>\n      <th>97</th>\n      <td>97</td>\n      <td>Dec 09, 2020</td>\n      <td>13.92</td>\n      <td>14.73</td>\n      <td>13.23</td>\n      <td>13.66</td>\n      <td>13.66</td>\n      <td>24,357,900</td>\n    </tr>\n    <tr>\n      <th>98</th>\n      <td>98</td>\n      <td>Dec 08, 2020</td>\n      <td>16.37</td>\n      <td>17.21</td>\n      <td>15.93</td>\n      <td>16.94</td>\n      <td>16.94</td>\n      <td>16,120,200</td>\n    </tr>\n    <tr>\n      <th>99</th>\n      <td>99</td>\n      <td>Dec 07, 2020</td>\n      <td>17.00</td>\n      <td>17.50</td>\n      <td>16.22</td>\n      <td>16.35</td>\n      <td>16.35</td>\n      <td>7,386,300</td>\n    </tr>\n  </tbody>\n</table>\n</div>",
                        "text/plain": "    index          Date   Open   High    Low  Close Adj Close      Volume\n95     95  Dec 11, 2020  13.91  14.00  13.02  13.31     13.31   7,496,900\n96     96  Dec 10, 2020  13.12  14.41  13.05  14.12     14.12   7,558,900\n97     97  Dec 09, 2020  13.92  14.73  13.23  13.66     13.66  24,357,900\n98     98  Dec 08, 2020  16.37  17.21  15.93  16.94     16.94  16,120,200\n99     99  Dec 07, 2020  17.00  17.50  16.22  16.35     16.35   7,386,300"
                    },
                    "execution_count": 127,
                    "metadata": {},
                    "output_type": "execute_result"
                }
            ],
            "source": "gme_revenue.reset_index(inplace=True)\ngme_revenue.tail()"
        },
        {
            "cell_type": "code",
            "execution_count": 141,
            "metadata": {},
            "outputs": [
                {
                    "data": {
                        "image/png": "[encoded data removed]",
                        "text/plain": "<Figure size 432x288 with 1 Axes>"
                    },
                    "metadata": {
                        "needs_background": "light"
                    },
                    "output_type": "display_data"
                }
            ],
            "source": "make_graph=tesla_data.plot(x=\"Date\",y=\"Open\",title=\"tesla_data\")"
        },
        {
            "cell_type": "code",
            "execution_count": 144,
            "metadata": {},
            "outputs": [
                {
                    "data": {
                        "image/png": "[encoded data removed]",
                        "text/plain": "<Figure size 432x288 with 1 Axes>"
                    },
                    "metadata": {
                        "needs_background": "light"
                    },
                    "output_type": "display_data"
                }
            ],
            "source": "make_graph=gme_data.plot(x=\"Date\",y=\"Open\",title=\"gme_data\")"
        },
        {
            "cell_type": "code",
            "execution_count": null,
            "metadata": {},
            "outputs": [],
            "source": ""
        }
    ],
    "metadata": {
        "kernelspec": {
            "display_name": "Python 3.7",
            "language": "python",
            "name": "python3"
        },
        "language_info": {
            "codemirror_mode": {
                "name": "ipython",
                "version": 3
            },
            "file_extension": ".py",
            "mimetype": "text/x-python",
            "name": "python",
            "nbconvert_exporter": "python",
            "pygments_lexer": "ipython3",
            "version": "3.7.10"
        }
    },
    "nbformat": 4,
    "nbformat_minor": 1
}